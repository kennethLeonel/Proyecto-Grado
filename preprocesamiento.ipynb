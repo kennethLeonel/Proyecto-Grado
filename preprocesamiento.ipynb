{
 "cells": [
  {
   "cell_type": "code",
   "execution_count": 2,
   "metadata": {},
   "outputs": [],
   "source": [
    "# Carga de librerias\n",
    "from IPython.display import display\n",
    "import subprocess as sp\n",
    "import numpy as np\n",
    "import pandas as pd\n",
    "import os\n",
    "import glob\n",
    "import seaborn as sns\n",
    "import matplotlib\n",
    "import matplotlib.pyplot as plt\n",
    "from matplotlib import cm\n",
    "from matplotlib import rcParams\n",
    "from sklearn.metrics import r2_score\n",
    "from statsmodels.tsa.seasonal import seasonal_decompose\n",
    "from pylab import rcParams\n",
    "import random\n",
    "import time\n",
    "\n",
    "# Configurar parametros de pandas y matplotlib\n",
    "pd.set_option('display.precision', 4)\n",
    "%config IPCompleter.greedy=True\n",
    "%matplotlib inline\n",
    "\n",
    "params = {}\n",
    "plt.rcParams.update(params)\n",
    "params = {\n",
    "           'legend.fontsize': 20,\n",
    "           'legend.handlelength': 2,\n",
    "           'axes.titlesize':'20',\n",
    "           'xtick.labelsize':'20',\n",
    "           'ytick.labelsize':'20'\n",
    "         }\n",
    "\n",
    "matplotlib.rcParams.update(params)"
   ]
  },
  {
   "cell_type": "code",
   "execution_count": 7,
   "metadata": {},
   "outputs": [
    {
     "name": "stdout",
     "output_type": "stream",
     "text": [
      "Archivo guardado en: data/concatenado\\belen_calidad_raw.csv\n",
      "No se encontraron archivos CSV en data/raw/calidad/84/\n",
      "Sin datos para la estación poblado\n",
      "Archivo guardado en: data/concatenado\\aranjuez_calidad_raw.csv\n"
     ]
    }
   ],
   "source": [
    "nombre_estaciones = [\"belen\", \"poblado\", \"aranjuez\"]\n",
    "cod_est_calidad = [\"83\", \"84\", \"86\"]\n",
    "ruta_calidad = r'data/raw/calidad/{}/'\n",
    "\n",
    "def concatenar_datos_calidad(ruta_csv, estacion):\n",
    "    # Generar lista de archivos CSV en la carpeta indicada\n",
    "    archivos_csv = glob.glob(ruta_csv.format(estacion) + \"*.csv\")\n",
    "    lista_df = []\n",
    "\n",
    "    if not archivos_csv:\n",
    "        print(f\"No se encontraron archivos CSV en {ruta_csv.format(estacion)}\")\n",
    "        return pd.DataFrame()\n",
    "\n",
    "    for archivo in archivos_csv:\n",
    "        try:\n",
    "            # Leer cada archivo CSV y agregarlo a la lista de DataFrames\n",
    "            _df = pd.read_csv(archivo, index_col=0, header=0)\n",
    "            lista_df.append(_df)\n",
    "        except Exception as e:\n",
    "            print(f\"Error al leer {archivo}: {e}\")\n",
    "\n",
    "    # Verificar si se leyeron DataFrames\n",
    "    if not lista_df:\n",
    "        print(f\"No se pudo leer ningún DataFrame para la estación {estacion}\")\n",
    "        return pd.DataFrame()\n",
    "\n",
    "    # Concatenar todos los DataFrames\n",
    "    df_var = pd.concat(lista_df, axis=0)\n",
    "    df_var.index.name = \"fecha_hora\"\n",
    "\n",
    "    # Eliminar índices duplicados\n",
    "    return df_var.loc[~df_var.index.duplicated()]\n",
    "\n",
    "# Crear la carpeta de salida si no existe\n",
    "os.makedirs(\"data/concatenado/\", exist_ok=True)\n",
    "\n",
    "# Procesar cada estación y guardar el archivo concatenado\n",
    "for est, cod_cal in zip(nombre_estaciones, cod_est_calidad):\n",
    "    df_calidad = concatenar_datos_calidad(ruta_calidad, cod_cal)\n",
    "    \n",
    "    # Sólo guardar si se obtuvo un DataFrame con datos\n",
    "    if not df_calidad.empty:\n",
    "        salida = os.path.join(\"data/concatenado\", f\"{est}_calidad_raw.csv\")\n",
    "        df_calidad.to_csv(salida)\n",
    "        print(f\"Archivo guardado en: {salida}\")\n",
    "    else:\n",
    "        print(f\"Sin datos para la estación {est}\")\n"
   ]
  },
  {
   "cell_type": "code",
   "execution_count": 12,
   "metadata": {},
   "outputs": [
    {
     "name": "stdout",
     "output_type": "stream",
     "text": [
      "<class 'pandas.core.frame.DataFrame'>\n",
      "Index: 10992 entries, 2023-07-01 00:00:00 to 2024-09-30 23:00:00\n",
      "Data columns (total 35 columns):\n",
      " #   Column                Non-Null Count  Dtype  \n",
      "---  ------                --------------  -----  \n",
      " 0   codigoSerial          10992 non-null  int64  \n",
      " 1   pm25                  10992 non-null  float64\n",
      " 2   calidad_pm25          10992 non-null  float64\n",
      " 3   pm10                  10992 non-null  float64\n",
      " 4   calidad_pm10          10992 non-null  float64\n",
      " 5   pm1                   10992 non-null  float64\n",
      " 6   calidad_pm1           10992 non-null  float64\n",
      " 7   no                    10992 non-null  float64\n",
      " 8   calidad_no            10992 non-null  float64\n",
      " 9   no2                   10992 non-null  float64\n",
      " 10  calidad_no2           10992 non-null  float64\n",
      " 11  nox                   10992 non-null  float64\n",
      " 12  calidad_nox           10992 non-null  float64\n",
      " 13  ozono                 10992 non-null  float64\n",
      " 14  calidad_ozono         10992 non-null  float64\n",
      " 15  co                    10992 non-null  float64\n",
      " 16  calidad_co            10992 non-null  float64\n",
      " 17  so2                   10992 non-null  float64\n",
      " 18  calidad_so2           10992 non-null  float64\n",
      " 19  pst                   10992 non-null  float64\n",
      " 20  calidad_pst           10992 non-null  float64\n",
      " 21  dviento_ssr           10992 non-null  float64\n",
      " 22  calidad_dviento_ssr   10992 non-null  float64\n",
      " 23  haire10_ssr           10992 non-null  float64\n",
      " 24  calidad_haire10_ssr   10992 non-null  float64\n",
      " 25  p_ssr                 10992 non-null  float64\n",
      " 26  calidad_p_ssr         10992 non-null  float64\n",
      " 27  pliquida_ssr          10992 non-null  float64\n",
      " 28  calidad_pliquida_ssr  10992 non-null  float64\n",
      " 29  rglobal_ssr           10992 non-null  float64\n",
      " 30  calidad_rglobal_ssr   10992 non-null  float64\n",
      " 31  taire10_ssr           10992 non-null  float64\n",
      " 32  calidad_taire10_ssr   10992 non-null  float64\n",
      " 33  vviento_ssr           10992 non-null  float64\n",
      " 34  calidad_vviento_ssr   10992 non-null  float64\n",
      "dtypes: float64(34), int64(1)\n",
      "memory usage: 3.0+ MB\n"
     ]
    }
   ],
   "source": [
    "df_calidad.info()"
   ]
  },
  {
   "cell_type": "code",
   "execution_count": 13,
   "metadata": {},
   "outputs": [
    {
     "name": "stdout",
     "output_type": "stream",
     "text": [
      "codigoSerial\n",
      "86    10992\n",
      "dtype: int64\n"
     ]
    }
   ],
   "source": [
    "conteo_codigos = df_calidad.groupby(\"codigoSerial\").size()\n",
    "print(conteo_codigos)"
   ]
  },
  {
   "cell_type": "code",
   "execution_count": null,
   "metadata": {},
   "outputs": [
    {
     "name": "stdout",
     "output_type": "stream",
     "text": [
      "Cargando archivo: data/concatenado\\aranjuez_calidad_raw.csv\n",
      "Valores únicos en 'codigo serial': [86]\n",
      "Cargando archivo: data/concatenado\\belen_calidad_raw.csv\n",
      "Valores únicos en 'codigo serial': [83]\n",
      "Conteo de códigos seriales en todos los archivos concatenados:\n",
      "codigoSerial\n",
      "86    10992\n",
      "83    10992\n",
      "Name: count, dtype: int64\n"
     ]
    }
   ],
   "source": [
    "# Cargar todos los archivos CSV concatenados de la carpeta\n",
    "archivos_concatenados = glob.glob(\"data/concatenado/*_calidad_raw.csv\")\n",
    "lista_df = []\n",
    "\n",
    "for archivo in archivos_concatenados:\n",
    "    df = pd.read_csv(archivo, index_col=0)\n",
    "    print(f\"Cargando archivo: {archivo}\")\n",
    "    # Mostrar los valores únicos en la columna 'codigo serial' para cada archivo\n",
    "    print(\"Valores únicos en 'codigo serial':\", df[\"codigoSerial\"].unique())\n",
    "    lista_df.append(df)\n",
    "\n",
    "# Concatenar todos los DataFrames en uno solo\n",
    "df_total = pd.concat(lista_df, axis=0)\n",
    "\n",
    "print(\"Conteo de códigos seriales en todos los archivos concatenados:\")\n",
    "print(df_total[\"codigoSerial\"].value_counts())\n"
   ]
  }
 ],
 "metadata": {
  "kernelspec": {
   "display_name": "python10",
   "language": "python",
   "name": "python3"
  },
  "language_info": {
   "codemirror_mode": {
    "name": "ipython",
    "version": 3
   },
   "file_extension": ".py",
   "mimetype": "text/x-python",
   "name": "python",
   "nbconvert_exporter": "python",
   "pygments_lexer": "ipython3",
   "version": "3.12.5"
  }
 },
 "nbformat": 4,
 "nbformat_minor": 2
}
